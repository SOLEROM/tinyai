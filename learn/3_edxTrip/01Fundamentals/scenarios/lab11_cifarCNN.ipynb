{
  "nbformat": 4,
  "nbformat_minor": 0,
  "metadata": {
    "accelerator": "GPU",
    "colab": {
      "name": "2-3-9-Question.ipynb",
      "provenance": []
    },
    "kernelspec": {
      "display_name": "Python 3",
      "language": "python",
      "name": "python3"
    },
    "language_info": {
      "codemirror_mode": {
        "name": "ipython",
        "version": 3
      },
      "file_extension": ".py",
      "mimetype": "text/x-python",
      "name": "python",
      "nbconvert_exporter": "python",
      "pygments_lexer": "ipython3",
      "version": "3.6.9"
    }
  },
  "cells": [
    {
      "cell_type": "markdown",
      "metadata": {
        "id": "iiVBUpuHXEtw"
      },
      "source": [
        "# Create a CNN to classify Cifar-10\n",
        "\n",
        "Learn about Cifar-10 here: https://www.cs.toronto.edu/~kriz/cifar.html\n",
        "\n",
        "In class you saw how to build a Convolutional Neural Network that classified Fashion MNIST. Take what you learned to build a CNN that recognizes the 10 classes of CIFAR. It will be a similar network, but there are some key differences you'll need to take into account.\n",
        "\n",
        "First, while MNIST were 28x28 monochome images (1 color channel), CIFAR are 32x32 color images (3 color channels).\n",
        "\n",
        "Second, MNIST images are simple, containing just the object, centered in the image, with no background. CIFAR ones can have the object with a background -- for example airplanes might have a cloudy sky behind them! As such you should expect your accuracy to be a bit lower. \n",
        "\n",
        "We start by setting up the problem for you."
      ]
    },
    {
      "cell_type": "code",
      "metadata": {
        "id": "6OQ_tVTaU3oo",
        "outputId": "39262fe8-f2ab-4685-eeb8-8f3385bb1350",
        "colab": {
          "base_uri": "https://localhost:8080/"
        }
      },
      "source": [
        "import tensorflow as tf\n",
        "\n",
        "from tensorflow.keras import datasets, layers, models\n",
        "import matplotlib.pyplot as plt\n",
        "\n",
        "(train_images, train_labels), (test_images, test_labels) = datasets.cifar10.load_data()\n",
        "\n",
        "# Normalize pixel values to be between 0 and 1\n",
        "train_images = train_images / 255.0\n",
        "test_images = test_images / 255.0"
      ],
      "execution_count": 1,
      "outputs": [
        {
          "output_type": "stream",
          "name": "stdout",
          "text": [
            "Downloading data from https://www.cs.toronto.edu/~kriz/cifar-10-python.tar.gz\n",
            "170500096/170498071 [==============================] - 6s 0us/step\n",
            "170508288/170498071 [==============================] - 6s 0us/step\n"
          ]
        }
      ]
    },
    {
      "cell_type": "markdown",
      "metadata": {
        "id": "PhBGjxO2lE3l"
      },
      "source": [
        "We then definte some of the model for you but leave most of it for you to fill in! \n",
        "\n",
        "*A hint: your model may want to learn some high level features and then classify them.*"
      ]
    },
    {
      "cell_type": "code",
      "metadata": {
        "id": "law2hNzdVA16"
      },
      "source": [
        "## FIRST_LAYER = #YOUR CODE HERE#\n",
        "## HIDDEN_LAYER_TYPE_1 = #YOUR CODE HERE#\n",
        "## HIDDEN_LAYER_TYPE_2 = #YOUR CODE HERE#\n",
        "## HIDDEN_LAYER_TYPE_3 = #YOUR CODE HERE#\n",
        "## HIDDEN_LAYER_TYPE_4 = #YOUR CODE HERE#\n",
        "## HIDDEN_LAYER_TYPE_5 = #YOUR CODE HERE#\n",
        "## LAST_LAYER = #YOUR CODE HERE#\n",
        "\n",
        "\n",
        "##sol1\n",
        "FIRST_LAYER = layers.Conv2D(32, (3, 3), activation='relu', input_shape=(32, 32, 3))\n",
        "HIDDEN_LAYER_TYPE_1 = layers.MaxPooling2D((2, 2))\n",
        "HIDDEN_LAYER_TYPE_2 = layers.Conv2D(64, (3, 3), activation='relu')\n",
        "HIDDEN_LAYER_TYPE_3 = layers.MaxPooling2D((2, 2))\n",
        "HIDDEN_LAYER_TYPE_4 = layers.Conv2D(64, (3, 3), activation='relu')\n",
        "HIDDEN_LAYER_TYPE_5 = layers.Dense(64, activation='relu')\n",
        "LAST_LAYER = layers.Dense(10)\n",
        "\n",
        "\n",
        "model = models.Sequential([\n",
        "       FIRST_LAYER,\n",
        "       HIDDEN_LAYER_TYPE_1,\n",
        "       HIDDEN_LAYER_TYPE_2,\n",
        "       HIDDEN_LAYER_TYPE_3,\n",
        "       HIDDEN_LAYER_TYPE_4,\n",
        "       layers.Flatten(),\n",
        "       HIDDEN_LAYER_TYPE_5,\n",
        "       LAST_LAYER,\n",
        "])"
      ],
      "execution_count": 2,
      "outputs": []
    },
    {
      "cell_type": "markdown",
      "metadata": {
        "id": "rDOu1Sc-lE3q"
      },
      "source": [
        "You then need to define loss function. And you can then train your model. Once training is done you'll see a plot of training and validation accuracy. You'll know you have a reasonable model with a reasonable loss funciton if your final training accuracy ends up in the 70s (or possibly higher).\n",
        "\n",
        "*A hint: your model may want to learn different categories.*"
      ]
    },
    {
      "cell_type": "code",
      "metadata": {
        "id": "Dxq2JU7dVIEX",
        "outputId": "6d274a58-a359-427d-de16-a08a63703b61",
        "colab": {
          "base_uri": "https://localhost:8080/",
          "height": 990
        }
      },
      "source": [
        "##  LOSS = #YOUR CODE HERE#\n",
        "\n",
        "LOSS = tf.keras.losses.SparseCategoricalCrossentropy(from_logits=True)\n",
        "\n",
        "NUM_EPOCHS = 20 #You can change this value if you like to experiment with it to get better accuracy\n",
        "\n",
        "# Compile the model\n",
        "model.compile(optimizer='sgd',\n",
        "              loss=LOSS,\n",
        "              metrics=['accuracy'])\n",
        "\n",
        "# Fit the model\n",
        "history = model.fit(train_images, train_labels, epochs=NUM_EPOCHS, \n",
        "                    validation_data=(test_images, test_labels))\n",
        "\n",
        "# summarize history for accuracy\n",
        "plt.plot(history.history['accuracy'])\n",
        "plt.plot(history.history['val_accuracy'])\n",
        "plt.title('model accuracy')\n",
        "plt.ylabel('accuracy')\n",
        "plt.xlabel('epoch')\n",
        "plt.legend(['train', 'test'], loc='upper left')\n",
        "plt.xlim([0,NUM_EPOCHS])\n",
        "plt.ylim([0.4,1.0])\n",
        "plt.show()"
      ],
      "execution_count": 3,
      "outputs": [
        {
          "output_type": "stream",
          "name": "stdout",
          "text": [
            "Epoch 1/20\n",
            "1563/1563 [==============================] - 41s 7ms/step - loss: 2.0268 - accuracy: 0.2566 - val_loss: 1.7999 - val_accuracy: 0.3569\n",
            "Epoch 2/20\n",
            "1563/1563 [==============================] - 11s 7ms/step - loss: 1.6511 - accuracy: 0.4046 - val_loss: 1.5465 - val_accuracy: 0.4398\n",
            "Epoch 3/20\n",
            "1563/1563 [==============================] - 11s 7ms/step - loss: 1.4660 - accuracy: 0.4714 - val_loss: 1.4284 - val_accuracy: 0.4796\n",
            "Epoch 4/20\n",
            "1563/1563 [==============================] - 11s 7ms/step - loss: 1.3509 - accuracy: 0.5162 - val_loss: 1.3045 - val_accuracy: 0.5234\n",
            "Epoch 5/20\n",
            "1563/1563 [==============================] - 11s 7ms/step - loss: 1.2643 - accuracy: 0.5508 - val_loss: 1.2450 - val_accuracy: 0.5605\n",
            "Epoch 6/20\n",
            "1563/1563 [==============================] - 11s 7ms/step - loss: 1.1873 - accuracy: 0.5802 - val_loss: 1.2064 - val_accuracy: 0.5634\n",
            "Epoch 7/20\n",
            "1563/1563 [==============================] - 11s 7ms/step - loss: 1.1177 - accuracy: 0.6066 - val_loss: 1.1500 - val_accuracy: 0.5960\n",
            "Epoch 8/20\n",
            "1563/1563 [==============================] - 11s 7ms/step - loss: 1.0584 - accuracy: 0.6296 - val_loss: 1.0705 - val_accuracy: 0.6242\n",
            "Epoch 9/20\n",
            "1563/1563 [==============================] - 11s 7ms/step - loss: 1.0071 - accuracy: 0.6487 - val_loss: 1.0673 - val_accuracy: 0.6235\n",
            "Epoch 10/20\n",
            "1563/1563 [==============================] - 11s 7ms/step - loss: 0.9613 - accuracy: 0.6664 - val_loss: 1.0056 - val_accuracy: 0.6489\n",
            "Epoch 11/20\n",
            "1563/1563 [==============================] - 11s 7ms/step - loss: 0.9202 - accuracy: 0.6818 - val_loss: 1.0097 - val_accuracy: 0.6519\n",
            "Epoch 12/20\n",
            "1563/1563 [==============================] - 11s 7ms/step - loss: 0.8821 - accuracy: 0.6937 - val_loss: 0.9789 - val_accuracy: 0.6599\n",
            "Epoch 13/20\n",
            "1563/1563 [==============================] - 11s 7ms/step - loss: 0.8446 - accuracy: 0.7073 - val_loss: 0.9405 - val_accuracy: 0.6773\n",
            "Epoch 14/20\n",
            "1563/1563 [==============================] - 11s 7ms/step - loss: 0.8144 - accuracy: 0.7180 - val_loss: 0.9060 - val_accuracy: 0.6910\n",
            "Epoch 15/20\n",
            "1563/1563 [==============================] - 11s 7ms/step - loss: 0.7838 - accuracy: 0.7277 - val_loss: 0.9065 - val_accuracy: 0.6916\n",
            "Epoch 16/20\n",
            "1563/1563 [==============================] - 11s 7ms/step - loss: 0.7573 - accuracy: 0.7383 - val_loss: 0.9584 - val_accuracy: 0.6698\n",
            "Epoch 17/20\n",
            "1563/1563 [==============================] - 11s 7ms/step - loss: 0.7310 - accuracy: 0.7474 - val_loss: 0.9363 - val_accuracy: 0.6824\n",
            "Epoch 18/20\n",
            "1563/1563 [==============================] - 11s 7ms/step - loss: 0.7060 - accuracy: 0.7563 - val_loss: 1.0006 - val_accuracy: 0.6724\n",
            "Epoch 19/20\n",
            "1563/1563 [==============================] - 11s 7ms/step - loss: 0.6805 - accuracy: 0.7647 - val_loss: 0.9107 - val_accuracy: 0.6966\n",
            "Epoch 20/20\n",
            "1563/1563 [==============================] - 11s 7ms/step - loss: 0.6585 - accuracy: 0.7712 - val_loss: 0.9173 - val_accuracy: 0.6928\n"
          ]
        },
        {
          "output_type": "display_data",
          "data": {
            "image/png": "[encoded data removed]",
            "text/plain": [
              "<Figure size 432x288 with 1 Axes>"
            ]
          },
          "metadata": {
            "needs_background": "light"
          }
        }
      ]
    },
    {
      "cell_type": "markdown",
      "metadata": {
        "id": "562FDbPGlE32"
      },
      "source": [
        "Finally, pick a better optimizer. And re-train your model. You'll know you have a reasonable model with a reasonable loss funciton and optimizer if your final training accuracy ends up in the 80s (or possibly higher).\n",
        "\n",
        "*A hint: your model may want to learn adaptively.*"
      ]
    },
    {
      "cell_type": "code",
      "metadata": {
        "id": "o-B5L6M6lE34",
        "outputId": "b42be609-a29f-471e-e9bc-a35e1bbade02",
        "colab": {
          "base_uri": "https://localhost:8080/",
          "height": 990
        }
      },
      "source": [
        "## OPTIMIZER = #YOUR CODE HERE#\n",
        "\n",
        "OPTIMIZER = 'adam'\n",
        "\n",
        "\n",
        "# Compile the model\n",
        "model.compile(optimizer=OPTIMIZER,\n",
        "              loss=LOSS,\n",
        "              metrics=['accuracy'])\n",
        "\n",
        "# Fit the model\n",
        "history = model.fit(train_images, train_labels, epochs=NUM_EPOCHS, \n",
        "                    validation_data=(test_images, test_labels))\n",
        "\n",
        "# summarize history for accuracy\n",
        "plt.plot(history.history['accuracy'])\n",
        "plt.plot(history.history['val_accuracy'])\n",
        "plt.title('model accuracy')\n",
        "plt.ylabel('accuracy')\n",
        "plt.xlabel('epoch')\n",
        "plt.legend(['train', 'test'], loc='upper left')\n",
        "plt.xlim([0,NUM_EPOCHS])\n",
        "plt.ylim([0.4,1.0])\n",
        "plt.show()"
      ],
      "execution_count": 4,
      "outputs": [
        {
          "output_type": "stream",
          "name": "stdout",
          "text": [
            "Epoch 1/20\n",
            "1563/1563 [==============================] - 12s 8ms/step - loss: 0.8447 - accuracy: 0.7042 - val_loss: 0.9204 - val_accuracy: 0.6758\n",
            "Epoch 2/20\n",
            "1563/1563 [==============================] - 12s 7ms/step - loss: 0.7591 - accuracy: 0.7352 - val_loss: 0.9010 - val_accuracy: 0.6868\n",
            "Epoch 3/20\n",
            "1563/1563 [==============================] - 11s 7ms/step - loss: 0.6813 - accuracy: 0.7633 - val_loss: 0.8713 - val_accuracy: 0.7094\n",
            "Epoch 4/20\n",
            "1563/1563 [==============================] - 11s 7ms/step - loss: 0.6089 - accuracy: 0.7877 - val_loss: 0.8372 - val_accuracy: 0.7237\n",
            "Epoch 5/20\n",
            "1563/1563 [==============================] - 12s 7ms/step - loss: 0.5423 - accuracy: 0.8099 - val_loss: 0.9441 - val_accuracy: 0.6910\n",
            "Epoch 6/20\n",
            "1563/1563 [==============================] - 11s 7ms/step - loss: 0.4831 - accuracy: 0.8286 - val_loss: 0.9032 - val_accuracy: 0.7174\n",
            "Epoch 7/20\n",
            "1563/1563 [==============================] - 12s 7ms/step - loss: 0.4251 - accuracy: 0.8493 - val_loss: 0.9848 - val_accuracy: 0.7152\n",
            "Epoch 8/20\n",
            "1563/1563 [==============================] - 11s 7ms/step - loss: 0.3843 - accuracy: 0.8642 - val_loss: 1.0053 - val_accuracy: 0.7133\n",
            "Epoch 9/20\n",
            "1563/1563 [==============================] - 12s 7ms/step - loss: 0.3378 - accuracy: 0.8802 - val_loss: 1.0641 - val_accuracy: 0.7079\n",
            "Epoch 10/20\n",
            "1563/1563 [==============================] - 11s 7ms/step - loss: 0.3065 - accuracy: 0.8908 - val_loss: 1.1752 - val_accuracy: 0.7034\n",
            "Epoch 11/20\n",
            "1563/1563 [==============================] - 12s 7ms/step - loss: 0.2748 - accuracy: 0.9027 - val_loss: 1.1764 - val_accuracy: 0.7143\n",
            "Epoch 12/20\n",
            "1563/1563 [==============================] - 12s 7ms/step - loss: 0.2528 - accuracy: 0.9107 - val_loss: 1.2912 - val_accuracy: 0.7048\n",
            "Epoch 13/20\n",
            "1563/1563 [==============================] - 12s 7ms/step - loss: 0.2264 - accuracy: 0.9193 - val_loss: 1.3097 - val_accuracy: 0.7085\n",
            "Epoch 14/20\n",
            "1563/1563 [==============================] - 12s 7ms/step - loss: 0.2065 - accuracy: 0.9262 - val_loss: 1.4519 - val_accuracy: 0.7095\n",
            "Epoch 15/20\n",
            "1563/1563 [==============================] - 12s 7ms/step - loss: 0.2002 - accuracy: 0.9283 - val_loss: 1.4637 - val_accuracy: 0.6983\n",
            "Epoch 16/20\n",
            "1563/1563 [==============================] - 11s 7ms/step - loss: 0.1766 - accuracy: 0.9365 - val_loss: 1.5417 - val_accuracy: 0.7039\n",
            "Epoch 17/20\n",
            "1563/1563 [==============================] - 11s 7ms/step - loss: 0.1766 - accuracy: 0.9374 - val_loss: 1.5935 - val_accuracy: 0.6963\n",
            "Epoch 18/20\n",
            "1563/1563 [==============================] - 11s 7ms/step - loss: 0.1581 - accuracy: 0.9448 - val_loss: 1.6802 - val_accuracy: 0.7055\n",
            "Epoch 19/20\n",
            "1563/1563 [==============================] - 11s 7ms/step - loss: 0.1587 - accuracy: 0.9443 - val_loss: 1.6741 - val_accuracy: 0.7057\n",
            "Epoch 20/20\n",
            "1563/1563 [==============================] - 12s 8ms/step - loss: 0.1525 - accuracy: 0.9470 - val_loss: 1.7749 - val_accuracy: 0.6943\n"
          ]
        },
        {
          "output_type": "display_data",
          "data": {
            "image/png": "[encoded data removed]",
            "text/plain": [
              "<Figure size 432x288 with 1 Axes>"
            ]
          },
          "metadata": {
            "needs_background": "light"
          }
        }
      ]
    }
  ]
}